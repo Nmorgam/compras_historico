{
 "cells": [
  {
   "cell_type": "code",
   "execution_count": null,
   "id": "42e192ff-d891-40c0-8c9f-d6fd20454203",
   "metadata": {},
   "outputs": [],
   "source": [
    "import streamlit as st\n",
    "import yfinance as yf\n",
    "import datetime\n",
    "\n",
    "st.set_page_config(page_title=\"Stock Price App\", layout=\"centered\")\n",
    "\n",
    "st.title(\"📈 Simple Stock Price App\")\n",
    "\n",
    "st.markdown(\"\"\"\n",
    "Este panel muestra los precios de cierre y el volumen histórico de acciones.\n",
    "Usa el panel lateral para seleccionar el ticker y el rango de fechas.\n",
    "\"\"\")\n",
    "\n",
    "# Sidebar inputs\n",
    "st.sidebar.header(\"Configuración\")\n",
    "\n",
    "# Ticker input\n",
    "ticker = st.sidebar.text_input(\"Símbolo de la acción (ej. AAPL, GOOGL, MSFT):\", value='GOOGL')\n",
    "\n",
    "# Year range input\n",
    "today = datetime.date.today()\n",
    "start_year = st.sidebar.slider(\"Año de inicio\", min_value=2000, max_value=today.year - 1, value=2015)\n",
    "end_year = st.sidebar.slider(\"Año de fin\", min_value=start_year, max_value=today.year, value=today.year)\n",
    "\n",
    "start_date = datetime.date(start_year, 1, 1)\n",
    "end_date = datetime.date(end_year, 12, 31)\n",
    "\n",
    "# Load data\n",
    "st.subheader(f\"Datos históricos de {ticker.upper()} desde {start_date} hasta {end_date}\")\n",
    "\n",
    "try:\n",
    "    ticker_data = yf.Ticker(ticker)\n",
    "    ticker_df = ticker_data.history(start=start_date, end=end_date)\n",
    "\n",
    "    if ticker_df.empty:\n",
    "        st.warning(\"No se encontraron datos para ese rango de fechas o ticker.\")\n",
    "    else:\n",
    "        st.line_chart(ticker_df.Close, use_container_width=True)\n",
    "        st.line_chart(ticker_df.Volume, use_container_width=True)\n",
    "\n",
    "        st.dataframe(ticker_df[['Open', 'High', 'Low', 'Close', 'Volume']].round(2))\n",
    "\n",
    "except Exception as e:\n",
    "    st.error(f\"Error al obtener los datos: {e}\")\n"
   ]
  }
 ],
 "metadata": {
  "kernelspec": {
   "display_name": "Python (mlops)",
   "language": "python",
   "name": "mlops"
  },
  "language_info": {
   "codemirror_mode": {
    "name": "ipython",
    "version": 3
   },
   "file_extension": ".py",
   "mimetype": "text/x-python",
   "name": "python",
   "nbconvert_exporter": "python",
   "pygments_lexer": "ipython3",
   "version": "3.12.7"
  }
 },
 "nbformat": 4,
 "nbformat_minor": 5
}
