{
 "cells": [
  {
   "cell_type": "code",
   "execution_count": null,
   "id": "2d620bdb-b7e2-47e7-8fa0-66ef8a0ec18a",
   "metadata": {},
   "outputs": [],
   "source": [
    "import streamlit as st\n",
    "import pandas as pd\n",
    "\n",
    "# Cargar datos\n",
    "@st.cache_data\n",
    "def load_data():\n",
    "    df = pd.read_csv(\"Compras_historicas.csv\", parse_dates=[\"FechaCompra\"])\n",
    "    df[\"Año\"] = df[\"FechaCompra\"].dt.year\n",
    "    df[\"Mes\"] = df[\"FechaCompra\"].dt.month\n",
    "    return df\n",
    "\n",
    "df = load_data()\n",
    "\n",
    "st.title(\"📊 Dashboard de Compras Históricas\")\n",
    "\n",
    "# Filtros\n",
    "st.sidebar.header(\"🔍 Filtros\")\n",
    "\n",
    "# Año\n",
    "años = sorted(df[\"Año\"].dropna().unique())\n",
    "año_sel = st.sidebar.selectbox(\"Seleccionar Año\", opciones := [\"Todos\"] + list(map(str, años)))\n",
    "\n",
    "# Mes\n",
    "meses = sorted(df[\"Mes\"].dropna().unique())\n",
    "mes_sel = st.sidebar.selectbox(\"Seleccionar Mes\", opciones := [\"Todos\"] + list(map(str, meses)))\n",
    "\n",
    "# Filtro por texto - Concepto\n",
    "concepto_input = st.sidebar.text_input(\"Buscar por Concepto\")\n",
    "\n",
    "# Filtro por texto - Proveedor\n",
    "proveedor_input = st.sidebar.text_input(\"Buscar por Proveedor\")\n",
    "\n",
    "# Aplicar filtros\n",
    "df_filtrado = df.copy()\n",
    "\n",
    "if año_sel != \"Todos\":\n",
    "    df_filtrado = df_filtrado[df_filtrado[\"Año\"] == int(año_sel)]\n",
    "\n",
    "if mes_sel != \"Todos\":\n",
    "    df_filtrado = df_filtrado[df_filtrado[\"Mes\"] == int(mes_sel)]\n",
    "\n",
    "if concepto_input:\n",
    "    df_filtrado = df_filtrado[df_filtrado[\"Concepto\"].str.contains(concepto_input, case=False, na=False)]\n",
    "\n",
    "if proveedor_input:\n",
    "    df_filtrado = df_filtrado[df_filtrado[\"Proveedor\"].str.contains(proveedor_input, case=False, na=False)]\n",
    "\n",
    "# Gráfico de compras por concepto\n",
    "st.subheader(\"📈 Total de compras por Concepto\")\n",
    "grafico = df_filtrado.groupby(\"Concepto\")[\"Monto\"].sum().sort_values(ascending=False).head(10)\n",
    "st.bar_chart(grafico)\n",
    "\n",
    "# Mostrar tabla con scroll\n",
    "st.subheader(\"📄 Compras filtradas\")\n",
    "st.dataframe(df_filtrado, height=500)\n"
   ]
  }
 ],
 "metadata": {
  "kernelspec": {
   "display_name": "Python (mlops)",
   "language": "python",
   "name": "mlops"
  },
  "language_info": {
   "codemirror_mode": {
    "name": "ipython",
    "version": 3
   },
   "file_extension": ".py",
   "mimetype": "text/x-python",
   "name": "python",
   "nbconvert_exporter": "python",
   "pygments_lexer": "ipython3",
   "version": "3.12.7"
  }
 },
 "nbformat": 4,
 "nbformat_minor": 5
}
